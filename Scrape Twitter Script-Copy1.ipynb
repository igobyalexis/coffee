{
 "cells": [
  {
   "cell_type": "code",
   "execution_count": 3,
   "metadata": {},
   "outputs": [],
   "source": [
    "from tweepy import OAuthHandler\n",
    "from tweepy.streaming import StreamListener\n",
    "import tweepy\n",
    "import json\n",
    "import pandas as pd\n",
    "import csv\n",
    "import re\n",
    "from textblob import TextBlob\n",
    "import string\n",
    "import preprocessor as p\n",
    "import os\n",
    "import time\n",
    "from API_keys import api_key, api_key_secret, access_token, access_token_secret\n",
    "from datetime import datetime\n",
    "from scraping_tweets import scraptweets"
   ]
  },
  {
   "cell_type": "code",
   "execution_count": null,
   "metadata": {},
   "outputs": [],
   "source": [
    "auth = tweepy.OAuthHandler(api_key,api_key_secret)\n",
    "auth.set_access_token(access_token,access_token_secret)\n",
    "api = tweepy.API(auth,wait_on_rate_limit=True)"
   ]
  },
  {
   "cell_type": "code",
   "execution_count": null,
   "metadata": {},
   "outputs": [],
   "source": [
    "# search_words = \"#hongkong OR #hkprotests\"\n",
    "# date_since = \"2019-11-03\"\n",
    "# numTweets = 20\n",
    "# numRuns = 6\n",
    "# # Call the function scraptweets\n",
    "\n",
    "# scraptweets(search_words, date_since, numTweets, numRuns)"
   ]
  },
  {
   "cell_type": "markdown",
   "metadata": {},
   "source": [
    "API.search(q[, geocode][, lang][, locale][, result_type][, count][, until][, since_id][, max_id][, include_entities])"
   ]
  },
  {
   "cell_type": "code",
   "execution_count": null,
   "metadata": {},
   "outputs": [],
   "source": [
    "db_tweets = pd.DataFrame(columns = ['username', 'acctdesc', 'location', 'following',\n",
    "                                    'followers', 'totaltweets', 'usercreatedts', 'tweetcreatedts',\n",
    "                                    'retweetcount', 'text', 'hashtags'])"
   ]
  },
  {
   "cell_type": "code",
   "execution_count": null,
   "metadata": {},
   "outputs": [],
   "source": [
    "search_words = \"#coffee or #Coffee\"\n",
    "date_since = \"2017-09-01\"\n",
    "numTweets = 1000\n",
    "numRuns = 20"
   ]
  },
  {
   "cell_type": "code",
   "execution_count": null,
   "metadata": {},
   "outputs": [],
   "source": [
    "print(search_words)\n",
    "print(numTweets)\n",
    "print(date_since)"
   ]
  },
  {
   "cell_type": "code",
   "execution_count": null,
   "metadata": {},
   "outputs": [],
   "source": [
    "for i in range(0, numRuns):\n",
    "    # We will time how long it takes to scrape tweets for each run:\n",
    "    start_run = time.time()\n",
    "\n",
    "    # Collect tweets using the Cursor object\n",
    "    # .Cursor() returns an object that you can iterate or loop over to access the data collected.\n",
    "    # Each item in the iterator has various attributes that you can access to get information about each tweet\n",
    "    tweets = tweepy.Cursor(api.search, q=search_words, lang=\"en\", since=date_since, tweet_mode='extended').items(numTweets)\n",
    "\n",
    "    # Store these tweets into a python list\n",
    "    tweet_list = [tweet for tweet in tweets]\n",
    "\n",
    "    # Obtain the following info (methods to call them out):\n",
    "        # user.screen_name - twitter handle\n",
    "        # user.description - description of account\n",
    "        # user.location - where is he tweeting from\n",
    "        # user.friends_count - no. of other users that user is following (following)\n",
    "        # user.followers_count - no. of other users who are following this user (followers)\n",
    "        # user.statuses_count - total tweets by user\n",
    "        # user.created_at - when the user account was created\n",
    "        # created_at - when the tweet was created\n",
    "        # retweet_count - no. of retweets\n",
    "        # (deprecated) user.favourites_count - probably total no. of tweets that is favourited by user\n",
    "        # retweeted_status.full_text - full text of the tweet\n",
    "        # tweet.entities['hashtags'] - hashtags in the tweet\n",
    "\n",
    "    # Begin scraping the tweets individually:\n",
    "    noTweets = 0\n",
    "\n",
    "    for tweet in tweet_list:\n",
    "\n",
    "        # Pull the values\n",
    "        username = tweet.user.screen_name\n",
    "        acctdesc = tweet.user.description\n",
    "        location = tweet.user.location\n",
    "        following = tweet.user.friends_count\n",
    "        followers = tweet.user.followers_count\n",
    "        totaltweets = tweet.user.statuses_count\n",
    "        usercreatedts = tweet.user.created_at\n",
    "        tweetcreatedts = tweet.created_at\n",
    "        retweetcount = tweet.retweet_count\n",
    "        hashtags = tweet.entities['hashtags']\n",
    "\n",
    "        try:\n",
    "            text = tweet.retweeted_status.full_text\n",
    "        except AttributeError:  # Not a Retweet\n",
    "            text = tweet.full_text\n",
    "\n",
    "        # Add the 11 variables to the empty list - ith_tweet:\n",
    "        ith_tweet = [username, acctdesc, location, following, followers, totaltweets,\n",
    "                     usercreatedts, tweetcreatedts, retweetcount, text, hashtags]\n",
    "\n",
    "        # Append to dataframe - db_tweets\n",
    "        db_tweets.loc[len(db_tweets)] = ith_tweet\n",
    "\n",
    "        # increase counter - noTweets  \n",
    "        noTweets += 1\n",
    "\n",
    "    # Run ended:\n",
    "    end_run = time.time()\n",
    "    duration_run = round(end_run-start_run, 2)\n",
    "\n",
    "    print('no. of tweets scraped for run {} is {}'.format(i, noTweets))\n",
    "    print('time take for {} run to complete is {}'.format(i, duration_run))\n",
    "\n",
    "    time.sleep(30) #30second sleep time\n"
   ]
  },
  {
   "cell_type": "code",
   "execution_count": null,
   "metadata": {
    "scrolled": false
   },
   "outputs": [],
   "source": [
    "db_tweets"
   ]
  },
  {
   "cell_type": "code",
   "execution_count": null,
   "metadata": {},
   "outputs": [],
   "source": [
    "# Once all runs have completed, save them to a single csv file:    \n",
    "# Obtain timestamp in a readable format:\n",
    "\n",
    "to_csv_timestamp = datetime.today().strftime('%Y%m%d_%H%M%S')\n",
    "\n",
    "# Define working path and filename\n",
    "path = os.getcwd()\n",
    "filename = to_csv_timestamp + '_coffee_tweets.csv'\n",
    "\n",
    "# Store dataframe in csv with creation date timestamp\n",
    "db_tweets.to_csv(filename, index = False)\n",
    "\n",
    "print('Scraping has completed!')"
   ]
  },
  {
   "cell_type": "code",
   "execution_count": null,
   "metadata": {
    "scrolled": true
   },
   "outputs": [],
   "source": [
    "import os\n",
    "os.listdir()"
   ]
  }
 ],
 "metadata": {
  "kernelspec": {
   "display_name": "Python 3",
   "language": "python",
   "name": "python3"
  },
  "language_info": {
   "codemirror_mode": {
    "name": "ipython",
    "version": 3
   },
   "file_extension": ".py",
   "mimetype": "text/x-python",
   "name": "python",
   "nbconvert_exporter": "python",
   "pygments_lexer": "ipython3",
   "version": "3.7.3"
  }
 },
 "nbformat": 4,
 "nbformat_minor": 2
}
