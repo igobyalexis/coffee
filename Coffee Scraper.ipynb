{
 "cells": [
  {
   "cell_type": "markdown",
   "metadata": {},
   "source": [
    "A notebook that does some basic webscraping using the `requests` library."
   ]
  },
  {
   "cell_type": "code",
   "execution_count": null,
   "metadata": {},
   "outputs": [],
   "source": [
    "import requests  # To get the pages\n",
    "from bs4 import BeautifulSoup # and to process them"
   ]
  },
  {
   "cell_type": "markdown",
   "metadata": {},
   "source": [
    "Let's scrape some webpages for some politicians. As I write this, the obvious candidates (pun intended) are Donald Trump and \n",
    "Joe Biden. Feel free to adjust the URLs to candidates that you find interesting. We may use these in some other contexts, so having two candidates on different sides of some issue could be nice. "
   ]
  },
  {
   "cell_type": "code",
   "execution_count": null,
   "metadata": {},
   "outputs": [],
   "source": [
    "site = [\"https://www.digitalmarketingmissoula.com/\"]\n",
    "print(site)"
   ]
  },
  {
   "cell_type": "markdown",
   "metadata": {},
   "source": [
    "Let's take a look at the site in the first spot of our list. "
   ]
  },
  {
   "cell_type": "code",
   "execution_count": null,
   "metadata": {
    "scrolled": true
   },
   "outputs": [],
   "source": [
    "r = requests.get(site[0])\n",
    "r.status_code"
   ]
  },
  {
   "cell_type": "code",
   "execution_count": null,
   "metadata": {},
   "outputs": [],
   "source": [
    "def generate_filename_from_url(url) :\n",
    "    if not url :\n",
    "        return None\n",
    "    \n",
    "    # drop the http or https\n",
    "    name = url.replace(\"https\",\"\").replace(\"http\",\"\")\n",
    "\n",
    "    # Replace useless chareacters with UNDERSCORE\n",
    "    name = name.replace(\"://\",\"\").replace(\".\",\"_\").replace(\"/\",\"_\")\n",
    "    \n",
    "    # remove last underscore\n",
    "    last_underscore_spot = name.rfind(\"_\")\n",
    "    \n",
    "    name = name[:last_underscore_spot] + name[(last_underscore_spot+1):]\n",
    "\n",
    "    # tack on .txt\n",
    "    name = name + \".txt\"\n",
    "    \n",
    "    return(name)"
   ]
  },
  {
   "cell_type": "code",
   "execution_count": null,
   "metadata": {},
   "outputs": [],
   "source": [
    "generate_filename_from_url(site[0])"
   ]
  },
  {
   "cell_type": "code",
   "execution_count": null,
   "metadata": {},
   "outputs": [],
   "source": [
    "from bs4.element import Comment\n",
    "\n",
    "def tag_visible(element):\n",
    "    if element.parent.name in ['style', 'script', 'head', 'title', 'meta', '[document]']:\n",
    "        return False\n",
    "    if isinstance(element, Comment):\n",
    "        return False\n",
    "    return True\n"
   ]
  },
  {
   "cell_type": "code",
   "execution_count": null,
   "metadata": {},
   "outputs": [],
   "source": [
    "coffee_links = []\n",
    "\n",
    "for link in coffeesoup.find_all('a'):\n",
    "    coffee_links.append(link.get('href')) "
   ]
  },
  {
   "cell_type": "code",
   "execution_count": null,
   "metadata": {},
   "outputs": [],
   "source": [
    "coffee_text = dict()\n",
    "\n",
    "for link in coffee_links :\n",
    "    try :\n",
    "        r = requests.get(link)\n",
    "    except :\n",
    "        pass \n",
    "    \n",
    "    if r.status_code == 200 :\n",
    "        \n",
    "        coffeesoup = BeautifulSoup(r.text, 'html.parser')\n",
    "        texts = coffeesoup.findAll(text=True)\n",
    "        visible_texts = filter(tag_visible, texts) \n",
    "        coffee_text[link] = \" \".join(text.strip() for text in visible_texts)\n",
    "    else :\n",
    "        print(f\"We got code {r.status_code} for this link: {link}\")"
   ]
  },
  {
   "cell_type": "markdown",
   "metadata": {},
   "source": [
    "Write out the visible text of each link on the site to a file"
   ]
  },
  {
   "cell_type": "code",
   "execution_count": null,
   "metadata": {},
   "outputs": [],
   "source": [
    "output_file_name = generate_filename_from_url(site[0])\n",
    "output_file_name"
   ]
  },
  {
   "cell_type": "code",
   "execution_count": null,
   "metadata": {},
   "outputs": [],
   "source": [
    "coffee_text['https://www.digitalmarketingmissoula.com'] == coffee_text['https://www.digitalmarketingmissoula.com/professional-web-services/']"
   ]
  },
  {
   "cell_type": "code",
   "execution_count": null,
   "metadata": {},
   "outputs": [],
   "source": [
    "with open(output_file_name,'w',encoding = \"UTF-8\") as outfile :\n",
    "    outfile.write(\"\\t\".join([\"link\",\"text\"]) + \"\\n\")\n",
    "    for link in coffee_text :\n",
    "        the_text = coffee_text[link]\n",
    "        \n",
    "        # get rid of some of our more annoying output chars\n",
    "        the_text = the_text.replace(\"\\t\",\" \").replace(\"\\n\",\" \").replace(\"\\r\",\" \") \n",
    "        \n",
    "        if not link :\n",
    "            link = \"empty link\"\n",
    "        \n",
    "        if the_text : # test to see if it is non-empty\n",
    "            outfile.write(\"\\t\".join([link,the_text]) + \"\\n\")\n",
    "        "
   ]
  },
  {
   "cell_type": "markdown",
   "metadata": {},
   "source": [
    "## Testing Ground"
   ]
  },
  {
   "cell_type": "code",
   "execution_count": null,
   "metadata": {},
   "outputs": [],
   "source": []
  }
 ],
 "metadata": {
  "kernelspec": {
   "display_name": "Python 3",
   "language": "python",
   "name": "python3"
  },
  "language_info": {
   "codemirror_mode": {
    "name": "ipython",
    "version": 3
   },
   "file_extension": ".py",
   "mimetype": "text/x-python",
   "name": "python",
   "nbconvert_exporter": "python",
   "pygments_lexer": "ipython3",
   "version": "3.7.3"
  }
 },
 "nbformat": 4,
 "nbformat_minor": 2
}
